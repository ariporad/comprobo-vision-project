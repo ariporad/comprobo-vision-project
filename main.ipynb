{
 "cells": [
  {
   "cell_type": "markdown",
   "metadata": {},
   "source": [
    "# Suggestion to Reader: Scroll to Bottom _First_\n",
    "\n",
    "There's one cell that wraps everything together in a concise, functional demo."
   ]
  },
  {
   "cell_type": "markdown",
   "metadata": {},
   "source": []
  },
  {
   "cell_type": "code",
   "execution_count": 26,
   "metadata": {},
   "outputs": [],
   "source": [
    "# %matplotlib notebook\n",
    "\n",
    "import cv2\n",
    "import pykitti\n",
    "import numpy as np\n",
    "from time import perf_counter\n",
    "from matplotlib import pyplot as plt\n",
    "\n",
    "kitti_dir = 'kitti'\n",
    "kitti_sequence = '04'\n",
    "\n",
    "kitti = pykitti.odometry(kitti_dir, kitti_sequence, frames=range(0, 200, 2))"
   ]
  },
  {
   "cell_type": "markdown",
   "metadata": {},
   "source": [
    "## Detect Features"
   ]
  },
  {
   "cell_type": "code",
   "execution_count": 27,
   "metadata": {},
   "outputs": [],
   "source": [
    "def detect_matches_and_E(img1, img2, draw=True):\n",
    "\t# Find Matches\n",
    "\t# From: https://stackoverflow.com/a/33670318\n",
    "\tsift = cv2.SIFT_create()\n",
    "\tkp1, des1 = sift.detectAndCompute(img1, None)\n",
    "\tkp2, des2 = sift.detectAndCompute(img2, None)\n",
    "\tbf = cv2.BFMatcher(cv2.NORM_L2, crossCheck=True)\n",
    "\tmatches = bf.match(des1, des2)\n",
    "\tmatches = sorted(matches, key=lambda x: x.distance)\n",
    "\n",
    "\tif draw:\n",
    "\t\tmatch_img = cv2.drawMatches(img1, kp1, img2, kp2, matches, None, flags=2)\n",
    "\t\tplt.figure(figsize=(9, 3))\n",
    "\t\tplt.imshow(match_img)\n",
    "\t\tplt.show()\n",
    "\n",
    "\t# Find Points\n",
    "\t# From book\n",
    "\timgpts1 = []\n",
    "\timgpts2 = []\n",
    "\tfor match in matches:\n",
    "\t\timgpts1.append(kp1[match.queryIdx].pt)\n",
    "\t\timgpts2.append(kp2[match.trainIdx].pt)\n",
    "\t\n",
    "\tpoints1 = np.array(imgpts1)\n",
    "\tpoints2 = np.array(imgpts2)\n",
    "\t\n",
    "\tF, status_mask = cv2.findFundamentalMat(points1, points2, cv2.FM_RANSAC, 0.1, 0.99, 100000)\n",
    "\tE = K.T @ F @ K\n",
    "\t\n",
    "\tif draw:\n",
    "\t\tprint(f\"Keeping {np.sum(status_mask)}/{status_mask.size} points that match the fundamental matrix\")\n",
    "\n",
    "\tstatus_mask = status_mask[:, 0] == 1\n",
    "\tpoints1 = points1[status_mask]\n",
    "\tpoints2 = points2[status_mask]\n",
    "\n",
    "\treturn points1, points2, matches, E\n"
   ]
  },
  {
   "cell_type": "code",
   "execution_count": 28,
   "metadata": {},
   "outputs": [],
   "source": [
    "# From book\n",
    "def P_from_E(E):\n",
    "\t# ???: It seems like all the data here is in w, which we\n",
    "\tw, u, vt = cv2.SVDecomp(E)\n",
    "\n",
    "\tW = np.array([\n",
    "\t\t[0, -1 , 0],\n",
    "\t\t[1, 0, 0],\n",
    "\t\t[0, 0, 1]\n",
    "\t])\n",
    "\n",
    "\tR = u @ W @ vt\n",
    "\tt = u[:, 2]\n",
    "\n",
    "\tassert np.abs(np.linalg.det(R)) - 1.0 <= 1e-07, \"det(R) != ±1.0, this isn't a rotation matrix!\"\n",
    "\n",
    "\tP = np.hstack((R, t[:, np.newaxis]))\n",
    "\treturn P"
   ]
  },
  {
   "cell_type": "markdown",
   "metadata": {},
   "source": [
    "## Triangulation"
   ]
  },
  {
   "cell_type": "code",
   "execution_count": null,
   "metadata": {},
   "outputs": [],
   "source": []
  },
  {
   "cell_type": "code",
   "execution_count": 29,
   "metadata": {},
   "outputs": [],
   "source": [
    "# From book\n",
    "def triangulate(\n",
    "\t# NOTE: u and u1 need to be normalized (multiplied by K, or P0 and P1 do)\n",
    "\tu0: np.array, # point in image 1: (x, y, 1)\n",
    "\tP0: np.array, # camera 1 matrix\n",
    "\tu1: np.array, # point in image 2: (x, y, 1)\n",
    "\tP1: np.array, # camera 2 matrix\n",
    "):\n",
    "\t# XXX: I don't quite understand this\n",
    "\tA = np.array([\n",
    "\t\t[u0[0]*P0[2,0]-P0[0,0], u0[0]*P0[2,1]-P0[0,1], u0[0]*P0[2,2]-P0[0,2]],\n",
    "\t\t[u0[1]*P0[2,0]-P0[1,0], u0[1]*P0[2,1]-P0[1,1], u0[1]*P0[2,2]-P0[1,2]],\n",
    "\t\t[u1[0]*P1[2,0]-P1[0,0], u1[0]*P1[2,1]-P1[0,1], u1[0]*P1[2,2]-P1[0,2]],\n",
    "\t\t[u1[1]*P1[2,0]-P1[1,0], u1[1]*P1[2,1]-P1[1,1], u1[1]*P1[2,2]-P1[1,2]]\n",
    "\t])\n",
    "\n",
    "\tB = np.array([\n",
    "\t\t-(u0[0]*P0[2, 3]-P0[0, 3]),\n",
    "\t\t-(u0[1]*P0[2, 3]-P0[1, 3]),\n",
    "\t\t-(u1[0]*P1[2, 3]-P1[0, 3]),\n",
    "\t\t-(u1[1]*P1[2, 3]-P1[1, 3])\n",
    "\t])\n",
    "\n",
    "\t_, X = cv2.solve(A, B, flags=cv2.DECOMP_SVD)\n",
    "\treturn np.array([*X[:, 0], 1.0])\n"
   ]
  },
  {
   "cell_type": "code",
   "execution_count": 30,
   "metadata": {},
   "outputs": [],
   "source": [
    "from collections import namedtuple\n",
    "from typing import Tuple, Optional, Dict, Iterable\n",
    "from dataclasses import dataclass, field\n",
    "\n",
    "@dataclass\n",
    "class PointCloud:\n",
    "\t_points3d: Dict[Tuple[float, float, float], Dict[int, Tuple[float, float]]] = field(default_factory=lambda: {})\n",
    "\t_num_observations: int = 0\n",
    "\n",
    "\tdef _canonicalize2d(self, point2d):\n",
    "\t\tpoint2d = np.array(point2d).squeeze()\n",
    "\t\t\n",
    "\t\tif point2d.shape == (3,):\n",
    "\t\t\tassert point2d[2] == 1.0, \"Invalid homogeneous 2d point! 3rd value must be 1.0!\"\n",
    "\t\t\tpoint2d = point2d[:2]\n",
    "\n",
    "\t\tassert point2d.shape == (2,), \"Invalid 2d point!\"\n",
    "\n",
    "\t\treturn point2d\n",
    "\t\n",
    "\tdef _canonicalize3d(self, point3d):\n",
    "\t\tpoint3d = np.array(point3d).squeeze()\n",
    "\t\t\n",
    "\t\tif point3d.shape == (4,):\n",
    "\t\t\tassert point3d[3] == 1.0, \"Invalid homogeneous 3d point! 4th value must be 1.0!\"\n",
    "\t\t\tpoint3d = point3d[:3]\n",
    "\n",
    "\t\tassert point3d.shape == (3,), \"Invalid 3d point!\"\n",
    "\n",
    "\t\treturn point3d\n",
    "\n",
    "\tdef set2d(self, frame_id, point3d, point2d) -> bool:\n",
    "\t\t\"\"\" Record an observation. Returns True if this observation is new, False otherwise.\"\"\"\n",
    "\t\tkey3d = tuple(self._canonicalize3d(point3d))\n",
    "\t\tvalue2d = tuple(self._canonicalize2d(point2d))\n",
    "\n",
    "\t\tif key3d not in self._points3d:\n",
    "\t\t\tself._points3d[key3d] = {}\n",
    "\t\t\n",
    "\t\tif self._points3d[key3d].get(frame_id, None) == value2d:\n",
    "\t\t\treturn False\n",
    "\t\t\n",
    "\t\tself._points3d[key3d][frame_id] = value2d\n",
    "\t\tself._num_observations += 1\n",
    "\n",
    "\t\treturn True\n",
    "\t\n",
    "\tdef lookup2d(self, frame_id, point2d):\n",
    "\t\tvalue2d = tuple(self._canonicalize2d(point2d))\n",
    "\t\t\n",
    "\t\tfor key3d, frame_dict in self._points3d.items():\n",
    "\t\t\tif frame_id not in frame_dict: continue\n",
    "\t\t\tif frame_dict[frame_id] != value2d: continue\n",
    "\n",
    "\t\t\treturn np.array(key3d)\n",
    "\t\n",
    "\tdef lookup3d(self, point3d):\n",
    "\t\tkey3d = tuple(self._canonicalize3d(point3d))\n",
    "\n",
    "\t\tfor frame_id, value2d in self._points3d[key3d].items():\n",
    "\t\t\tyield frame_id, np.array(value2d)\n",
    "\t\t\n",
    "\t@property\n",
    "\tdef num_observations(self) -> int:\n",
    "\t\treturn self._num_observations\n",
    "\t\n",
    "\t@property\n",
    "\tdef num_points3d(self) -> int:\n",
    "\t\treturn len(self._points3d)\n",
    "\t\n",
    "\t@property\n",
    "\tdef points3d(self) -> Iterable[np.array]:\n",
    "\t\treturn (np.array(key3d) for key3d in self._points3d.keys())\n",
    "\t\n",
    "\t@property\n",
    "\tdef observations(self) -> Iterable[Tuple[int, np.array, np.array]]:\n",
    "\t\t\"\"\" Return (frame_id, point2d, point3d) tuples of each observation. \"\"\"\n",
    "\t\tfor key3d, frame_dict in self._points3d.items():\n",
    "\t\t\tpoint3d = np.array(key3d)\n",
    "\t\t\tfor frame_id, tuple2d in frame_dict:\n",
    "\t\t\t\tyield frame_id, point3d, np.array(tuple2d)\n",
    "\n",
    "\n",
    "# From book\n",
    "def triangulate_points(\n",
    "\tframe_id: int,\n",
    "\tpoint_cloud: PointCloud,\n",
    "\tpt_set1: np.array,\n",
    "\tpt_set2: np.array,\n",
    "\tK: np.array,\n",
    "\tP0: np.array,\n",
    "\tP1: np.array,\n",
    "):\n",
    "\tKinv = np.linalg.inv(K)\n",
    "\treproj_error = []\n",
    "\t\n",
    "\tfor i in range(len(pt_set1)):\n",
    "\t\t# Convert to normalized, homogeneous coordinates\n",
    "\t\tu0 = Kinv @ np.array([*pt_set1[i], 1.0])\n",
    "\t\tu1 = Kinv @ np.array([*pt_set2[i], 1.0])\n",
    "\n",
    "\t\t# Triangulate\n",
    "\t\tX = triangulate(u0, P0, u1, P1)\n",
    "\n",
    "\t\tif point_cloud.set2d(frame_id, X, pt_set2[i]):\n",
    "\t\t\t# Calculate reprojection error\n",
    "\t\t\treproj = K @ P1 @ X\n",
    "\t\t\treproj_normalized = reproj[0:1] / reproj[2]\n",
    "\t\t\treproj_error.append(np.linalg.norm(reproj_normalized))\n",
    "\t\n",
    "\t# Return mean reprojection error\n",
    "\treturn np.mean(reproj_error)\n"
   ]
  },
  {
   "cell_type": "code",
   "execution_count": 31,
   "metadata": {},
   "outputs": [],
   "source": [
    "def P_from_PnP(points3d, points2d, K):\n",
    "\t# Not really from book, because the book's implementation of this is incomprehensible\n",
    "\tsuccess, rvec, t, inliers = cv2.solvePnPRansac(np.array(points3d), np.array(points2d), K, None)\n",
    "\tassert success, \"PnP failed!\"\n",
    "\n",
    "\tR, _ = cv2.Rodrigues(rvec)\n",
    "\n",
    "\tP = np.hstack((R, t))\n",
    "\treturn P, R, t"
   ]
  },
  {
   "cell_type": "code",
   "execution_count": 32,
   "metadata": {},
   "outputs": [],
   "source": [
    "# Helper\n",
    "def normalize(v, *args, **kwargs):\n",
    "    return v / np.linalg.norm(v, *args, **kwargs)"
   ]
  },
  {
   "cell_type": "markdown",
   "metadata": {},
   "source": [
    "## Continuous"
   ]
  },
  {
   "cell_type": "code",
   "execution_count": 33,
   "metadata": {
    "scrolled": false
   },
   "outputs": [
    {
     "data": {
      "application/javascript": "/* Put everything inside the global mpl namespace */\n/* global mpl */\nwindow.mpl = {};\n\nmpl.get_websocket_type = function () {\n    if (typeof WebSocket !== 'undefined') {\n        return WebSocket;\n    } else if (typeof MozWebSocket !== 'undefined') {\n        return MozWebSocket;\n    } else {\n        alert(\n            'Your browser does not have WebSocket support. ' +\n                'Please try Chrome, Safari or Firefox ≥ 6. ' +\n                'Firefox 4 and 5 are also supported but you ' +\n                'have to enable WebSockets in about:config.'\n        );\n    }\n};\n\nmpl.figure = function (figure_id, websocket, ondownload, parent_element) {\n    this.id = figure_id;\n\n    this.ws = websocket;\n\n    this.supports_binary = this.ws.binaryType !== undefined;\n\n    if (!this.supports_binary) {\n        var warnings = document.getElementById('mpl-warnings');\n        if (warnings) {\n            warnings.style.display = 'block';\n            warnings.textContent =\n                'This browser does not support binary websocket messages. ' +\n                'Performance may be slow.';\n        }\n    }\n\n    this.imageObj = new Image();\n\n    this.context = undefined;\n    this.message = undefined;\n    this.canvas = undefined;\n    this.rubberband_canvas = undefined;\n    this.rubberband_context = undefined;\n    this.format_dropdown = undefined;\n\n    this.image_mode = 'full';\n\n    this.root = document.createElement('div');\n    this.root.setAttribute('style', 'display: inline-block');\n    this._root_extra_style(this.root);\n\n    parent_element.appendChild(this.root);\n\n    this._init_header(this);\n    this._init_canvas(this);\n    this._init_toolbar(this);\n\n    var fig = this;\n\n    this.waiting = false;\n\n    this.ws.onopen = function () {\n        fig.send_message('supports_binary', { value: fig.supports_binary });\n        fig.send_message('send_image_mode', {});\n        if (fig.ratio !== 1) {\n            fig.send_message('set_device_pixel_ratio', {\n                device_pixel_ratio: fig.ratio,\n            });\n        }\n        fig.send_message('refresh', {});\n    };\n\n    this.imageObj.onload = function () {\n        if (fig.image_mode === 'full') {\n            // Full images could contain transparency (where diff images\n            // almost always do), so we need to clear the canvas so that\n            // there is no ghosting.\n            fig.context.clearRect(0, 0, fig.canvas.width, fig.canvas.height);\n        }\n        fig.context.drawImage(fig.imageObj, 0, 0);\n    };\n\n    this.imageObj.onunload = function () {\n        fig.ws.close();\n    };\n\n    this.ws.onmessage = this._make_on_message_function(this);\n\n    this.ondownload = ondownload;\n};\n\nmpl.figure.prototype._init_header = function () {\n    var titlebar = document.createElement('div');\n    titlebar.classList =\n        'ui-dialog-titlebar ui-widget-header ui-corner-all ui-helper-clearfix';\n    var titletext = document.createElement('div');\n    titletext.classList = 'ui-dialog-title';\n    titletext.setAttribute(\n        'style',\n        'width: 100%; text-align: center; padding: 3px;'\n    );\n    titlebar.appendChild(titletext);\n    this.root.appendChild(titlebar);\n    this.header = titletext;\n};\n\nmpl.figure.prototype._canvas_extra_style = function (_canvas_div) {};\n\nmpl.figure.prototype._root_extra_style = function (_canvas_div) {};\n\nmpl.figure.prototype._init_canvas = function () {\n    var fig = this;\n\n    var canvas_div = (this.canvas_div = document.createElement('div'));\n    canvas_div.setAttribute(\n        'style',\n        'border: 1px solid #ddd;' +\n            'box-sizing: content-box;' +\n            'clear: both;' +\n            'min-height: 1px;' +\n            'min-width: 1px;' +\n            'outline: 0;' +\n            'overflow: hidden;' +\n            'position: relative;' +\n            'resize: both;'\n    );\n\n    function on_keyboard_event_closure(name) {\n        return function (event) {\n            return fig.key_event(event, name);\n        };\n    }\n\n    canvas_div.addEventListener(\n        'keydown',\n        on_keyboard_event_closure('key_press')\n    );\n    canvas_div.addEventListener(\n        'keyup',\n        on_keyboard_event_closure('key_release')\n    );\n\n    this._canvas_extra_style(canvas_div);\n    this.root.appendChild(canvas_div);\n\n    var canvas = (this.canvas = document.createElement('canvas'));\n    canvas.classList.add('mpl-canvas');\n    canvas.setAttribute('style', 'box-sizing: content-box;');\n\n    this.context = canvas.getContext('2d');\n\n    var backingStore =\n        this.context.backingStorePixelRatio ||\n        this.context.webkitBackingStorePixelRatio ||\n        this.context.mozBackingStorePixelRatio ||\n        this.context.msBackingStorePixelRatio ||\n        this.context.oBackingStorePixelRatio ||\n        this.context.backingStorePixelRatio ||\n        1;\n\n    this.ratio = (window.devicePixelRatio || 1) / backingStore;\n\n    var rubberband_canvas = (this.rubberband_canvas = document.createElement(\n        'canvas'\n    ));\n    rubberband_canvas.setAttribute(\n        'style',\n        'box-sizing: content-box; position: absolute; left: 0; top: 0; z-index: 1;'\n    );\n\n    // Apply a ponyfill if ResizeObserver is not implemented by browser.\n    if (this.ResizeObserver === undefined) {\n        if (window.ResizeObserver !== undefined) {\n            this.ResizeObserver = window.ResizeObserver;\n        } else {\n            var obs = _JSXTOOLS_RESIZE_OBSERVER({});\n            this.ResizeObserver = obs.ResizeObserver;\n        }\n    }\n\n    this.resizeObserverInstance = new this.ResizeObserver(function (entries) {\n        var nentries = entries.length;\n        for (var i = 0; i < nentries; i++) {\n            var entry = entries[i];\n            var width, height;\n            if (entry.contentBoxSize) {\n                if (entry.contentBoxSize instanceof Array) {\n                    // Chrome 84 implements new version of spec.\n                    width = entry.contentBoxSize[0].inlineSize;\n                    height = entry.contentBoxSize[0].blockSize;\n                } else {\n                    // Firefox implements old version of spec.\n                    width = entry.contentBoxSize.inlineSize;\n                    height = entry.contentBoxSize.blockSize;\n                }\n            } else {\n                // Chrome <84 implements even older version of spec.\n                width = entry.contentRect.width;\n                height = entry.contentRect.height;\n            }\n\n            // Keep the size of the canvas and rubber band canvas in sync with\n            // the canvas container.\n            if (entry.devicePixelContentBoxSize) {\n                // Chrome 84 implements new version of spec.\n                canvas.setAttribute(\n                    'width',\n                    entry.devicePixelContentBoxSize[0].inlineSize\n                );\n                canvas.setAttribute(\n                    'height',\n                    entry.devicePixelContentBoxSize[0].blockSize\n                );\n            } else {\n                canvas.setAttribute('width', width * fig.ratio);\n                canvas.setAttribute('height', height * fig.ratio);\n            }\n            canvas.setAttribute(\n                'style',\n                'width: ' + width + 'px; height: ' + height + 'px;'\n            );\n\n            rubberband_canvas.setAttribute('width', width);\n            rubberband_canvas.setAttribute('height', height);\n\n            // And update the size in Python. We ignore the initial 0/0 size\n            // that occurs as the element is placed into the DOM, which should\n            // otherwise not happen due to the minimum size styling.\n            if (fig.ws.readyState == 1 && width != 0 && height != 0) {\n                fig.request_resize(width, height);\n            }\n        }\n    });\n    this.resizeObserverInstance.observe(canvas_div);\n\n    function on_mouse_event_closure(name) {\n        return function (event) {\n            return fig.mouse_event(event, name);\n        };\n    }\n\n    rubberband_canvas.addEventListener(\n        'mousedown',\n        on_mouse_event_closure('button_press')\n    );\n    rubberband_canvas.addEventListener(\n        'mouseup',\n        on_mouse_event_closure('button_release')\n    );\n    rubberband_canvas.addEventListener(\n        'dblclick',\n        on_mouse_event_closure('dblclick')\n    );\n    // Throttle sequential mouse events to 1 every 20ms.\n    rubberband_canvas.addEventListener(\n        'mousemove',\n        on_mouse_event_closure('motion_notify')\n    );\n\n    rubberband_canvas.addEventListener(\n        'mouseenter',\n        on_mouse_event_closure('figure_enter')\n    );\n    rubberband_canvas.addEventListener(\n        'mouseleave',\n        on_mouse_event_closure('figure_leave')\n    );\n\n    canvas_div.addEventListener('wheel', function (event) {\n        if (event.deltaY < 0) {\n            event.step = 1;\n        } else {\n            event.step = -1;\n        }\n        on_mouse_event_closure('scroll')(event);\n    });\n\n    canvas_div.appendChild(canvas);\n    canvas_div.appendChild(rubberband_canvas);\n\n    this.rubberband_context = rubberband_canvas.getContext('2d');\n    this.rubberband_context.strokeStyle = '#000000';\n\n    this._resize_canvas = function (width, height, forward) {\n        if (forward) {\n            canvas_div.style.width = width + 'px';\n            canvas_div.style.height = height + 'px';\n        }\n    };\n\n    // Disable right mouse context menu.\n    this.rubberband_canvas.addEventListener('contextmenu', function (_e) {\n        event.preventDefault();\n        return false;\n    });\n\n    function set_focus() {\n        canvas.focus();\n        canvas_div.focus();\n    }\n\n    window.setTimeout(set_focus, 100);\n};\n\nmpl.figure.prototype._init_toolbar = function () {\n    var fig = this;\n\n    var toolbar = document.createElement('div');\n    toolbar.classList = 'mpl-toolbar';\n    this.root.appendChild(toolbar);\n\n    function on_click_closure(name) {\n        return function (_event) {\n            return fig.toolbar_button_onclick(name);\n        };\n    }\n\n    function on_mouseover_closure(tooltip) {\n        return function (event) {\n            if (!event.currentTarget.disabled) {\n                return fig.toolbar_button_onmouseover(tooltip);\n            }\n        };\n    }\n\n    fig.buttons = {};\n    var buttonGroup = document.createElement('div');\n    buttonGroup.classList = 'mpl-button-group';\n    for (var toolbar_ind in mpl.toolbar_items) {\n        var name = mpl.toolbar_items[toolbar_ind][0];\n        var tooltip = mpl.toolbar_items[toolbar_ind][1];\n        var image = mpl.toolbar_items[toolbar_ind][2];\n        var method_name = mpl.toolbar_items[toolbar_ind][3];\n\n        if (!name) {\n            /* Instead of a spacer, we start a new button group. */\n            if (buttonGroup.hasChildNodes()) {\n                toolbar.appendChild(buttonGroup);\n            }\n            buttonGroup = document.createElement('div');\n            buttonGroup.classList = 'mpl-button-group';\n            continue;\n        }\n\n        var button = (fig.buttons[name] = document.createElement('button'));\n        button.classList = 'mpl-widget';\n        button.setAttribute('role', 'button');\n        button.setAttribute('aria-disabled', 'false');\n        button.addEventListener('click', on_click_closure(method_name));\n        button.addEventListener('mouseover', on_mouseover_closure(tooltip));\n\n        var icon_img = document.createElement('img');\n        icon_img.src = '_images/' + image + '.png';\n        icon_img.srcset = '_images/' + image + '_large.png 2x';\n        icon_img.alt = tooltip;\n        button.appendChild(icon_img);\n\n        buttonGroup.appendChild(button);\n    }\n\n    if (buttonGroup.hasChildNodes()) {\n        toolbar.appendChild(buttonGroup);\n    }\n\n    var fmt_picker = document.createElement('select');\n    fmt_picker.classList = 'mpl-widget';\n    toolbar.appendChild(fmt_picker);\n    this.format_dropdown = fmt_picker;\n\n    for (var ind in mpl.extensions) {\n        var fmt = mpl.extensions[ind];\n        var option = document.createElement('option');\n        option.selected = fmt === mpl.default_extension;\n        option.innerHTML = fmt;\n        fmt_picker.appendChild(option);\n    }\n\n    var status_bar = document.createElement('span');\n    status_bar.classList = 'mpl-message';\n    toolbar.appendChild(status_bar);\n    this.message = status_bar;\n};\n\nmpl.figure.prototype.request_resize = function (x_pixels, y_pixels) {\n    // Request matplotlib to resize the figure. Matplotlib will then trigger a resize in the client,\n    // which will in turn request a refresh of the image.\n    this.send_message('resize', { width: x_pixels, height: y_pixels });\n};\n\nmpl.figure.prototype.send_message = function (type, properties) {\n    properties['type'] = type;\n    properties['figure_id'] = this.id;\n    this.ws.send(JSON.stringify(properties));\n};\n\nmpl.figure.prototype.send_draw_message = function () {\n    if (!this.waiting) {\n        this.waiting = true;\n        this.ws.send(JSON.stringify({ type: 'draw', figure_id: this.id }));\n    }\n};\n\nmpl.figure.prototype.handle_save = function (fig, _msg) {\n    var format_dropdown = fig.format_dropdown;\n    var format = format_dropdown.options[format_dropdown.selectedIndex].value;\n    fig.ondownload(fig, format);\n};\n\nmpl.figure.prototype.handle_resize = function (fig, msg) {\n    var size = msg['size'];\n    if (size[0] !== fig.canvas.width || size[1] !== fig.canvas.height) {\n        fig._resize_canvas(size[0], size[1], msg['forward']);\n        fig.send_message('refresh', {});\n    }\n};\n\nmpl.figure.prototype.handle_rubberband = function (fig, msg) {\n    var x0 = msg['x0'] / fig.ratio;\n    var y0 = (fig.canvas.height - msg['y0']) / fig.ratio;\n    var x1 = msg['x1'] / fig.ratio;\n    var y1 = (fig.canvas.height - msg['y1']) / fig.ratio;\n    x0 = Math.floor(x0) + 0.5;\n    y0 = Math.floor(y0) + 0.5;\n    x1 = Math.floor(x1) + 0.5;\n    y1 = Math.floor(y1) + 0.5;\n    var min_x = Math.min(x0, x1);\n    var min_y = Math.min(y0, y1);\n    var width = Math.abs(x1 - x0);\n    var height = Math.abs(y1 - y0);\n\n    fig.rubberband_context.clearRect(\n        0,\n        0,\n        fig.canvas.width / fig.ratio,\n        fig.canvas.height / fig.ratio\n    );\n\n    fig.rubberband_context.strokeRect(min_x, min_y, width, height);\n};\n\nmpl.figure.prototype.handle_figure_label = function (fig, msg) {\n    // Updates the figure title.\n    fig.header.textContent = msg['label'];\n};\n\nmpl.figure.prototype.handle_cursor = function (fig, msg) {\n    fig.rubberband_canvas.style.cursor = msg['cursor'];\n};\n\nmpl.figure.prototype.handle_message = function (fig, msg) {\n    fig.message.textContent = msg['message'];\n};\n\nmpl.figure.prototype.handle_draw = function (fig, _msg) {\n    // Request the server to send over a new figure.\n    fig.send_draw_message();\n};\n\nmpl.figure.prototype.handle_image_mode = function (fig, msg) {\n    fig.image_mode = msg['mode'];\n};\n\nmpl.figure.prototype.handle_history_buttons = function (fig, msg) {\n    for (var key in msg) {\n        if (!(key in fig.buttons)) {\n            continue;\n        }\n        fig.buttons[key].disabled = !msg[key];\n        fig.buttons[key].setAttribute('aria-disabled', !msg[key]);\n    }\n};\n\nmpl.figure.prototype.handle_navigate_mode = function (fig, msg) {\n    if (msg['mode'] === 'PAN') {\n        fig.buttons['Pan'].classList.add('active');\n        fig.buttons['Zoom'].classList.remove('active');\n    } else if (msg['mode'] === 'ZOOM') {\n        fig.buttons['Pan'].classList.remove('active');\n        fig.buttons['Zoom'].classList.add('active');\n    } else {\n        fig.buttons['Pan'].classList.remove('active');\n        fig.buttons['Zoom'].classList.remove('active');\n    }\n};\n\nmpl.figure.prototype.updated_canvas_event = function () {\n    // Called whenever the canvas gets updated.\n    this.send_message('ack', {});\n};\n\n// A function to construct a web socket function for onmessage handling.\n// Called in the figure constructor.\nmpl.figure.prototype._make_on_message_function = function (fig) {\n    return function socket_on_message(evt) {\n        if (evt.data instanceof Blob) {\n            var img = evt.data;\n            if (img.type !== 'image/png') {\n                /* FIXME: We get \"Resource interpreted as Image but\n                 * transferred with MIME type text/plain:\" errors on\n                 * Chrome.  But how to set the MIME type?  It doesn't seem\n                 * to be part of the websocket stream */\n                img.type = 'image/png';\n            }\n\n            /* Free the memory for the previous frames */\n            if (fig.imageObj.src) {\n                (window.URL || window.webkitURL).revokeObjectURL(\n                    fig.imageObj.src\n                );\n            }\n\n            fig.imageObj.src = (window.URL || window.webkitURL).createObjectURL(\n                img\n            );\n            fig.updated_canvas_event();\n            fig.waiting = false;\n            return;\n        } else if (\n            typeof evt.data === 'string' &&\n            evt.data.slice(0, 21) === 'data:image/png;base64'\n        ) {\n            fig.imageObj.src = evt.data;\n            fig.updated_canvas_event();\n            fig.waiting = false;\n            return;\n        }\n\n        var msg = JSON.parse(evt.data);\n        var msg_type = msg['type'];\n\n        // Call the  \"handle_{type}\" callback, which takes\n        // the figure and JSON message as its only arguments.\n        try {\n            var callback = fig['handle_' + msg_type];\n        } catch (e) {\n            console.log(\n                \"No handler for the '\" + msg_type + \"' message type: \",\n                msg\n            );\n            return;\n        }\n\n        if (callback) {\n            try {\n                // console.log(\"Handling '\" + msg_type + \"' message: \", msg);\n                callback(fig, msg);\n            } catch (e) {\n                console.log(\n                    \"Exception inside the 'handler_\" + msg_type + \"' callback:\",\n                    e,\n                    e.stack,\n                    msg\n                );\n            }\n        }\n    };\n};\n\n// from https://stackoverflow.com/questions/1114465/getting-mouse-location-in-canvas\nmpl.findpos = function (e) {\n    //this section is from http://www.quirksmode.org/js/events_properties.html\n    var targ;\n    if (!e) {\n        e = window.event;\n    }\n    if (e.target) {\n        targ = e.target;\n    } else if (e.srcElement) {\n        targ = e.srcElement;\n    }\n    if (targ.nodeType === 3) {\n        // defeat Safari bug\n        targ = targ.parentNode;\n    }\n\n    // pageX,Y are the mouse positions relative to the document\n    var boundingRect = targ.getBoundingClientRect();\n    var x = e.pageX - (boundingRect.left + document.body.scrollLeft);\n    var y = e.pageY - (boundingRect.top + document.body.scrollTop);\n\n    return { x: x, y: y };\n};\n\n/*\n * return a copy of an object with only non-object keys\n * we need this to avoid circular references\n * https://stackoverflow.com/a/24161582/3208463\n */\nfunction simpleKeys(original) {\n    return Object.keys(original).reduce(function (obj, key) {\n        if (typeof original[key] !== 'object') {\n            obj[key] = original[key];\n        }\n        return obj;\n    }, {});\n}\n\nmpl.figure.prototype.mouse_event = function (event, name) {\n    var canvas_pos = mpl.findpos(event);\n\n    if (name === 'button_press') {\n        this.canvas.focus();\n        this.canvas_div.focus();\n    }\n\n    var x = canvas_pos.x * this.ratio;\n    var y = canvas_pos.y * this.ratio;\n\n    this.send_message(name, {\n        x: x,\n        y: y,\n        button: event.button,\n        step: event.step,\n        guiEvent: simpleKeys(event),\n    });\n\n    /* This prevents the web browser from automatically changing to\n     * the text insertion cursor when the button is pressed.  We want\n     * to control all of the cursor setting manually through the\n     * 'cursor' event from matplotlib */\n    event.preventDefault();\n    return false;\n};\n\nmpl.figure.prototype._key_event_extra = function (_event, _name) {\n    // Handle any extra behaviour associated with a key event\n};\n\nmpl.figure.prototype.key_event = function (event, name) {\n    // Prevent repeat events\n    if (name === 'key_press') {\n        if (event.key === this._key) {\n            return;\n        } else {\n            this._key = event.key;\n        }\n    }\n    if (name === 'key_release') {\n        this._key = null;\n    }\n\n    var value = '';\n    if (event.ctrlKey && event.key !== 'Control') {\n        value += 'ctrl+';\n    }\n    else if (event.altKey && event.key !== 'Alt') {\n        value += 'alt+';\n    }\n    else if (event.shiftKey && event.key !== 'Shift') {\n        value += 'shift+';\n    }\n\n    value += 'k' + event.key;\n\n    this._key_event_extra(event, name);\n\n    this.send_message(name, { key: value, guiEvent: simpleKeys(event) });\n    return false;\n};\n\nmpl.figure.prototype.toolbar_button_onclick = function (name) {\n    if (name === 'download') {\n        this.handle_save(this, null);\n    } else {\n        this.send_message('toolbar_button', { name: name });\n    }\n};\n\nmpl.figure.prototype.toolbar_button_onmouseover = function (tooltip) {\n    this.message.textContent = tooltip;\n};\n\n///////////////// REMAINING CONTENT GENERATED BY embed_js.py /////////////////\n// prettier-ignore\nvar _JSXTOOLS_RESIZE_OBSERVER=function(A){var t,i=new WeakMap,n=new WeakMap,a=new WeakMap,r=new WeakMap,o=new Set;function s(e){if(!(this instanceof s))throw new TypeError(\"Constructor requires 'new' operator\");i.set(this,e)}function h(){throw new TypeError(\"Function is not a constructor\")}function c(e,t,i,n){e=0 in arguments?Number(arguments[0]):0,t=1 in arguments?Number(arguments[1]):0,i=2 in arguments?Number(arguments[2]):0,n=3 in arguments?Number(arguments[3]):0,this.right=(this.x=this.left=e)+(this.width=i),this.bottom=(this.y=this.top=t)+(this.height=n),Object.freeze(this)}function d(){t=requestAnimationFrame(d);var s=new WeakMap,p=new Set;o.forEach((function(t){r.get(t).forEach((function(i){var r=t instanceof window.SVGElement,o=a.get(t),d=r?0:parseFloat(o.paddingTop),f=r?0:parseFloat(o.paddingRight),l=r?0:parseFloat(o.paddingBottom),u=r?0:parseFloat(o.paddingLeft),g=r?0:parseFloat(o.borderTopWidth),m=r?0:parseFloat(o.borderRightWidth),w=r?0:parseFloat(o.borderBottomWidth),b=u+f,F=d+l,v=(r?0:parseFloat(o.borderLeftWidth))+m,W=g+w,y=r?0:t.offsetHeight-W-t.clientHeight,E=r?0:t.offsetWidth-v-t.clientWidth,R=b+v,z=F+W,M=r?t.width:parseFloat(o.width)-R-E,O=r?t.height:parseFloat(o.height)-z-y;if(n.has(t)){var k=n.get(t);if(k[0]===M&&k[1]===O)return}n.set(t,[M,O]);var S=Object.create(h.prototype);S.target=t,S.contentRect=new c(u,d,M,O),s.has(i)||(s.set(i,[]),p.add(i)),s.get(i).push(S)}))})),p.forEach((function(e){i.get(e).call(e,s.get(e),e)}))}return s.prototype.observe=function(i){if(i instanceof window.Element){r.has(i)||(r.set(i,new Set),o.add(i),a.set(i,window.getComputedStyle(i)));var n=r.get(i);n.has(this)||n.add(this),cancelAnimationFrame(t),t=requestAnimationFrame(d)}},s.prototype.unobserve=function(i){if(i instanceof window.Element&&r.has(i)){var n=r.get(i);n.has(this)&&(n.delete(this),n.size||(r.delete(i),o.delete(i))),n.size||r.delete(i),o.size||cancelAnimationFrame(t)}},A.DOMRectReadOnly=c,A.ResizeObserver=s,A.ResizeObserverEntry=h,A}; // eslint-disable-line\nmpl.toolbar_items = [[\"Home\", \"Reset original view\", \"fa fa-home icon-home\", \"home\"], [\"Back\", \"Back to previous view\", \"fa fa-arrow-left icon-arrow-left\", \"back\"], [\"Forward\", \"Forward to next view\", \"fa fa-arrow-right icon-arrow-right\", \"forward\"], [\"\", \"\", \"\", \"\"], [\"Pan\", \"Left button pans, Right button zooms\\nx/y fixes axis, CTRL fixes aspect\", \"fa fa-arrows icon-move\", \"pan\"], [\"Zoom\", \"Zoom to rectangle\\nx/y fixes axis\", \"fa fa-square-o icon-check-empty\", \"zoom\"], [\"\", \"\", \"\", \"\"], [\"Download\", \"Download plot\", \"fa fa-floppy-o icon-save\", \"download\"]];\n\nmpl.extensions = [\"eps\", \"jpeg\", \"pgf\", \"pdf\", \"png\", \"ps\", \"raw\", \"svg\", \"tif\"];\n\nmpl.default_extension = \"png\";/* global mpl */\n\nvar comm_websocket_adapter = function (comm) {\n    // Create a \"websocket\"-like object which calls the given IPython comm\n    // object with the appropriate methods. Currently this is a non binary\n    // socket, so there is still some room for performance tuning.\n    var ws = {};\n\n    ws.binaryType = comm.kernel.ws.binaryType;\n    ws.readyState = comm.kernel.ws.readyState;\n    function updateReadyState(_event) {\n        if (comm.kernel.ws) {\n            ws.readyState = comm.kernel.ws.readyState;\n        } else {\n            ws.readyState = 3; // Closed state.\n        }\n    }\n    comm.kernel.ws.addEventListener('open', updateReadyState);\n    comm.kernel.ws.addEventListener('close', updateReadyState);\n    comm.kernel.ws.addEventListener('error', updateReadyState);\n\n    ws.close = function () {\n        comm.close();\n    };\n    ws.send = function (m) {\n        //console.log('sending', m);\n        comm.send(m);\n    };\n    // Register the callback with on_msg.\n    comm.on_msg(function (msg) {\n        //console.log('receiving', msg['content']['data'], msg);\n        var data = msg['content']['data'];\n        if (data['blob'] !== undefined) {\n            data = {\n                data: new Blob(msg['buffers'], { type: data['blob'] }),\n            };\n        }\n        // Pass the mpl event to the overridden (by mpl) onmessage function.\n        ws.onmessage(data);\n    });\n    return ws;\n};\n\nmpl.mpl_figure_comm = function (comm, msg) {\n    // This is the function which gets called when the mpl process\n    // starts-up an IPython Comm through the \"matplotlib\" channel.\n\n    var id = msg.content.data.id;\n    // Get hold of the div created by the display call when the Comm\n    // socket was opened in Python.\n    var element = document.getElementById(id);\n    var ws_proxy = comm_websocket_adapter(comm);\n\n    function ondownload(figure, _format) {\n        window.open(figure.canvas.toDataURL());\n    }\n\n    var fig = new mpl.figure(id, ws_proxy, ondownload, element);\n\n    // Call onopen now - mpl needs it, as it is assuming we've passed it a real\n    // web socket which is closed, not our websocket->open comm proxy.\n    ws_proxy.onopen();\n\n    fig.parent_element = element;\n    fig.cell_info = mpl.find_output_cell(\"<div id='\" + id + \"'></div>\");\n    if (!fig.cell_info) {\n        console.error('Failed to find cell for figure', id, fig);\n        return;\n    }\n    fig.cell_info[0].output_area.element.on(\n        'cleared',\n        { fig: fig },\n        fig._remove_fig_handler\n    );\n};\n\nmpl.figure.prototype.handle_close = function (fig, msg) {\n    var width = fig.canvas.width / fig.ratio;\n    fig.cell_info[0].output_area.element.off(\n        'cleared',\n        fig._remove_fig_handler\n    );\n    fig.resizeObserverInstance.unobserve(fig.canvas_div);\n\n    // Update the output cell to use the data from the current canvas.\n    fig.push_to_output();\n    var dataURL = fig.canvas.toDataURL();\n    // Re-enable the keyboard manager in IPython - without this line, in FF,\n    // the notebook keyboard shortcuts fail.\n    IPython.keyboard_manager.enable();\n    fig.parent_element.innerHTML =\n        '<img src=\"' + dataURL + '\" width=\"' + width + '\">';\n    fig.close_ws(fig, msg);\n};\n\nmpl.figure.prototype.close_ws = function (fig, msg) {\n    fig.send_message('closing', msg);\n    // fig.ws.close()\n};\n\nmpl.figure.prototype.push_to_output = function (_remove_interactive) {\n    // Turn the data on the canvas into data in the output cell.\n    var width = this.canvas.width / this.ratio;\n    var dataURL = this.canvas.toDataURL();\n    this.cell_info[1]['text/html'] =\n        '<img src=\"' + dataURL + '\" width=\"' + width + '\">';\n};\n\nmpl.figure.prototype.updated_canvas_event = function () {\n    // Tell IPython that the notebook contents must change.\n    IPython.notebook.set_dirty(true);\n    this.send_message('ack', {});\n    var fig = this;\n    // Wait a second, then push the new image to the DOM so\n    // that it is saved nicely (might be nice to debounce this).\n    setTimeout(function () {\n        fig.push_to_output();\n    }, 1000);\n};\n\nmpl.figure.prototype._init_toolbar = function () {\n    var fig = this;\n\n    var toolbar = document.createElement('div');\n    toolbar.classList = 'btn-toolbar';\n    this.root.appendChild(toolbar);\n\n    function on_click_closure(name) {\n        return function (_event) {\n            return fig.toolbar_button_onclick(name);\n        };\n    }\n\n    function on_mouseover_closure(tooltip) {\n        return function (event) {\n            if (!event.currentTarget.disabled) {\n                return fig.toolbar_button_onmouseover(tooltip);\n            }\n        };\n    }\n\n    fig.buttons = {};\n    var buttonGroup = document.createElement('div');\n    buttonGroup.classList = 'btn-group';\n    var button;\n    for (var toolbar_ind in mpl.toolbar_items) {\n        var name = mpl.toolbar_items[toolbar_ind][0];\n        var tooltip = mpl.toolbar_items[toolbar_ind][1];\n        var image = mpl.toolbar_items[toolbar_ind][2];\n        var method_name = mpl.toolbar_items[toolbar_ind][3];\n\n        if (!name) {\n            /* Instead of a spacer, we start a new button group. */\n            if (buttonGroup.hasChildNodes()) {\n                toolbar.appendChild(buttonGroup);\n            }\n            buttonGroup = document.createElement('div');\n            buttonGroup.classList = 'btn-group';\n            continue;\n        }\n\n        button = fig.buttons[name] = document.createElement('button');\n        button.classList = 'btn btn-default';\n        button.href = '#';\n        button.title = name;\n        button.innerHTML = '<i class=\"fa ' + image + ' fa-lg\"></i>';\n        button.addEventListener('click', on_click_closure(method_name));\n        button.addEventListener('mouseover', on_mouseover_closure(tooltip));\n        buttonGroup.appendChild(button);\n    }\n\n    if (buttonGroup.hasChildNodes()) {\n        toolbar.appendChild(buttonGroup);\n    }\n\n    // Add the status bar.\n    var status_bar = document.createElement('span');\n    status_bar.classList = 'mpl-message pull-right';\n    toolbar.appendChild(status_bar);\n    this.message = status_bar;\n\n    // Add the close button to the window.\n    var buttongrp = document.createElement('div');\n    buttongrp.classList = 'btn-group inline pull-right';\n    button = document.createElement('button');\n    button.classList = 'btn btn-mini btn-primary';\n    button.href = '#';\n    button.title = 'Stop Interaction';\n    button.innerHTML = '<i class=\"fa fa-power-off icon-remove icon-large\"></i>';\n    button.addEventListener('click', function (_evt) {\n        fig.handle_close(fig, {});\n    });\n    button.addEventListener(\n        'mouseover',\n        on_mouseover_closure('Stop Interaction')\n    );\n    buttongrp.appendChild(button);\n    var titlebar = this.root.querySelector('.ui-dialog-titlebar');\n    titlebar.insertBefore(buttongrp, titlebar.firstChild);\n};\n\nmpl.figure.prototype._remove_fig_handler = function (event) {\n    var fig = event.data.fig;\n    if (event.target !== this) {\n        // Ignore bubbled events from children.\n        return;\n    }\n    fig.close_ws(fig, {});\n};\n\nmpl.figure.prototype._root_extra_style = function (el) {\n    el.style.boxSizing = 'content-box'; // override notebook setting of border-box.\n};\n\nmpl.figure.prototype._canvas_extra_style = function (el) {\n    // this is important to make the div 'focusable\n    el.setAttribute('tabindex', 0);\n    // reach out to IPython and tell the keyboard manager to turn it's self\n    // off when our div gets focus\n\n    // location in version 3\n    if (IPython.notebook.keyboard_manager) {\n        IPython.notebook.keyboard_manager.register_events(el);\n    } else {\n        // location in version 2\n        IPython.keyboard_manager.register_events(el);\n    }\n};\n\nmpl.figure.prototype._key_event_extra = function (event, _name) {\n    // Check for shift+enter\n    if (event.shiftKey && event.which === 13) {\n        this.canvas_div.blur();\n        // select the cell after this one\n        var index = IPython.notebook.find_cell_index(this.cell_info[0]);\n        IPython.notebook.select(index + 1);\n    }\n};\n\nmpl.figure.prototype.handle_save = function (fig, _msg) {\n    fig.ondownload(fig, null);\n};\n\nmpl.find_output_cell = function (html_output) {\n    // Return the cell and output element which can be found *uniquely* in the notebook.\n    // Note - this is a bit hacky, but it is done because the \"notebook_saving.Notebook\"\n    // IPython event is triggered only after the cells have been serialised, which for\n    // our purposes (turning an active figure into a static one), is too late.\n    var cells = IPython.notebook.get_cells();\n    var ncells = cells.length;\n    for (var i = 0; i < ncells; i++) {\n        var cell = cells[i];\n        if (cell.cell_type === 'code') {\n            for (var j = 0; j < cell.output_area.outputs.length; j++) {\n                var data = cell.output_area.outputs[j];\n                if (data.data) {\n                    // IPython >= 3 moved mimebundle to data attribute of output\n                    data = data.data;\n                }\n                if (data['text/html'] === html_output) {\n                    return [cell, data, j];\n                }\n            }\n        }\n    }\n};\n\n// Register the function which deals with the matplotlib target/channel.\n// The kernel may be null if the page has been refreshed.\nif (IPython.notebook.kernel !== null) {\n    IPython.notebook.kernel.comm_manager.register_target(\n        'matplotlib',\n        mpl.mpl_figure_comm\n    );\n}\n",
      "text/plain": [
       "<IPython.core.display.Javascript object>"
      ]
     },
     "metadata": {},
     "output_type": "display_data"
    },
    {
     "data": {
      "text/html": [
       "<div id='6c6b2721-677e-43ef-aab2-65087038f4b1'></div>"
      ],
      "text/plain": [
       "<IPython.core.display.HTML object>"
      ]
     },
     "metadata": {},
     "output_type": "display_data"
    },
    {
     "name": "stdout",
     "output_type": "stream",
     "text": [
      "Keeping 359/1265 points that match the fundamental matrix\n",
      "Frame 2 took 393ms: Keeping 114/376 new points. Mean reprojection error: 507.95.\n",
      "Frame 3 took 463ms: Keeping 147/385 new points. Mean reprojection error: 470.60.\n",
      "Frame 4 took 430ms: Keeping 158/422 new points. Mean reprojection error: 518.70.\n",
      "Frame 5 took 751ms: Keeping 143/399 new points. Mean reprojection error: 488.79.\n",
      "Frame 6 took 929ms: Keeping 119/358 new points. Mean reprojection error: 468.05.\n",
      "Frame 7 took 984ms: Keeping 132/368 new points. Mean reprojection error: 411.87.\n",
      "Frame 8 took 1082ms: Keeping 137/339 new points. Mean reprojection error: 437.23.\n",
      "Frame 9 took 1787ms: Keeping 80/280 new points. Mean reprojection error: 463.42.\n",
      "Frame 10 took 1405ms: Keeping 93/331 new points. Mean reprojection error: 530.06.\n",
      "Frame 11 took 1748ms: Keeping 107/287 new points. Mean reprojection error: 496.06.\n",
      "Frame 12 took 434ms: Keeping 110/357 new points. Mean reprojection error: 481.84.\n",
      "Frame 13 took 846ms: Keeping 119/319 new points. Mean reprojection error: 440.86.\n",
      "Frame 14 took 1071ms: Keeping 114/294 new points. Mean reprojection error: 444.30.\n",
      "Frame 15 took 653ms: Keeping 113/336 new points. Mean reprojection error: 465.63.\n",
      "Frame 16 took 1280ms: Keeping 108/311 new points. Mean reprojection error: 453.32.\n",
      "Frame 17 took 1169ms: Keeping 101/296 new points. Mean reprojection error: 456.59.\n",
      "Frame 18 took 1670ms: Keeping 107/266 new points. Mean reprojection error: 531.88.\n",
      "Frame 19 took 1737ms: Keeping 79/280 new points. Mean reprojection error: 505.34.\n",
      "Frame 20 took 1741ms: Keeping 77/241 new points. Mean reprojection error: 494.82.\n",
      "Frame 21 took 1761ms: Keeping 78/269 new points. Mean reprojection error: 506.86.\n",
      "Frame 22 took 1682ms: Keeping 97/260 new points. Mean reprojection error: 458.05.\n",
      "Frame 23 took 1394ms: Keeping 87/246 new points. Mean reprojection error: 471.94.\n",
      "Frame 24 took 826ms: Keeping 108/281 new points. Mean reprojection error: 445.10.\n",
      "Frame 25 took 1304ms: Keeping 108/263 new points. Mean reprojection error: 440.59.\n",
      "Frame 26 took 663ms: Keeping 95/286 new points. Mean reprojection error: 428.78.\n",
      "Frame 27 took 604ms: Keeping 90/286 new points. Mean reprojection error: 437.61.\n",
      "Frame 28 took 644ms: Keeping 103/273 new points. Mean reprojection error: 417.87.\n",
      "Frame 29 took 554ms: Keeping 100/282 new points. Mean reprojection error: 421.67.\n",
      "Frame 30 took 374ms: Keeping 116/315 new points. Mean reprojection error: 421.61.\n",
      "Frame 31 took 420ms: Keeping 123/312 new points. Mean reprojection error: 406.52.\n",
      "Frame 32 took 464ms: Keeping 115/330 new points. Mean reprojection error: 384.76.\n",
      "Frame 33 took 414ms: Keeping 132/355 new points. Mean reprojection error: 402.67.\n",
      "Frame 34 took 712ms: Keeping 108/312 new points. Mean reprojection error: 369.95.\n",
      "Frame 35 took 659ms: Keeping 116/319 new points. Mean reprojection error: 384.09.\n",
      "Frame 36 took 819ms: Keeping 112/282 new points. Mean reprojection error: 397.13.\n",
      "Frame 37 took 679ms: Keeping 98/269 new points. Mean reprojection error: 428.80.\n",
      "Frame 38 took 1508ms: Keeping 95/243 new points. Mean reprojection error: 448.44.\n",
      "Frame 39 took 774ms: Keeping 82/278 new points. Mean reprojection error: 454.90.\n",
      "Frame 40 took 1288ms: Keeping 89/225 new points. Mean reprojection error: 434.61.\n",
      "Frame 41 took 744ms: Keeping 74/233 new points. Mean reprojection error: 455.83.\n",
      "Frame 42 took 951ms: Keeping 76/235 new points. Mean reprojection error: 417.37.\n",
      "Frame 43 took 751ms: Keeping 93/256 new points. Mean reprojection error: 409.37.\n",
      "Frame 44 took 475ms: Keeping 96/270 new points. Mean reprojection error: 384.84.\n",
      "Frame 45 took 549ms: Keeping 96/286 new points. Mean reprojection error: 398.35.\n",
      "Frame 46 took 485ms: Keeping 113/299 new points. Mean reprojection error: 415.32.\n",
      "Frame 47 took 527ms: Keeping 116/294 new points. Mean reprojection error: 442.51.\n",
      "Frame 48 took 446ms: Keeping 127/343 new points. Mean reprojection error: 453.47.\n",
      "Frame 49 took 718ms: Keeping 130/309 new points. Mean reprojection error: 449.06.\n",
      "Frame 50 took 514ms: Keeping 127/324 new points. Mean reprojection error: 436.01.\n",
      "Frame 51 took 556ms: Keeping 121/349 new points. Mean reprojection error: 503.03.\n"
     ]
    }
   ],
   "source": [
    "# I made this part up, although it's an amalgamation of code from above which came from other places\n",
    "# This cell is self-contained from a state perspective, but not a logic one\n",
    "from itertools import islice\n",
    "\n",
    "### Setup ###\n",
    "K = kitti.calib.K_cam0\n",
    "imgs = (np.array(img) for img in kitti.cam0)\n",
    "ground_truth_poses = kitti.poses\n",
    "\n",
    "img0 = next(imgs)\n",
    "img1 = next(imgs)\n",
    "\n",
    "points0, points1, matches, E = detect_matches_and_E(img0, img1)\n",
    "# P0 is assumed to be fixed to start\n",
    "P0 = np.array([\n",
    "\t[1, 0, 0, 0],\n",
    "\t[0, 1, 0, 0],\n",
    "\t[0, 0, 1, 0]\n",
    "])\n",
    "P1 = P_from_E(E)\n",
    "Ps = [P0, P1]\n",
    "Es = [E]\n",
    "cur_pose = np.array([[1,0,0,0], [0,1,0,0], [0,0,1,0], [0,0,0,1]])\n",
    "poses = [cur_pose]\n",
    "point_cloud = PointCloud()\n",
    "err = triangulate_points(1, point_cloud, points0, points1, K, P0, P1)\n",
    "\n",
    "\n",
    "\n",
    "\n",
    "### Graph ###\n",
    "# fig = plt.figure()\n",
    "# ax = fig.add_subplot(projection='3d')\n",
    "# for cp in point_cloud:\n",
    "# \tax.scatter(*cp.point3d)\n",
    "\n",
    "# ax.set_title('First Round 3D Points')\n",
    "# ax.set_xlabel('X')\n",
    "# ax.set_ylabel('Y')\n",
    "# ax.set_zlabel('Z')\n",
    "# plt.show()\n",
    "\n",
    "### Run ###\n",
    "\n",
    "for frame_id, img in enumerate(islice(imgs, 50), start=2):\n",
    "\tstart_time = perf_counter()\n",
    "\timg0, img1 = img1, img\n",
    "\tpoints0, points1, matches, E = detect_matches_and_E(img0, img1, draw=False)\n",
    "\tEs.append(E)\n",
    "\tpoints1_valid = []\n",
    "\n",
    "\tfor point0, point1 in zip(points0, points1):\n",
    "\t\tpoint3d = point_cloud.lookup2d(frame_id - 1, point0) \n",
    "\t\tif point3d is not None:\n",
    "\t\t\tpoints1_valid.append((point3d, point1))\n",
    "\t\n",
    "\n",
    "\tP0 = P1\n",
    "\tP1, R, t = P_from_PnP([point3d for point3d, _ in points1_valid], [point1 for _, point1 in points1_valid], K)\n",
    "\tPs.append(P1)\n",
    "\tP1_fixed = np.vstack((P1, [0,0,0,1]))\n",
    "\tcur_pose = (P1_fixed @ cur_pose)\n",
    "\tposes.append(cur_pose)\n",
    "\n",
    "\terr = triangulate_points(frame_id, point_cloud, points0, points1, K, P0, P1)\n",
    "\tduration = perf_counter() - start_time\n",
    "\tprint(f\"Frame {frame_id} took {duration * 1000:.0f}ms: Keeping {len(points1_valid)}/{len(points1)} new points. Mean reprojection error: {err:.2f}.\")\n",
    "\n",
    "original_poses = poses"
   ]
  },
  {
   "cell_type": "code",
   "execution_count": 37,
   "metadata": {
    "scrolled": false
   },
   "outputs": [
    {
     "data": {
      "image/png": "[encoded data removed]",
      "text/plain": [
       "<Figure size 432x288 with 1 Axes>"
      ]
     },
     "metadata": {
      "needs_background": "light"
     },
     "output_type": "display_data"
    }
   ],
   "source": [
    "def plot_trajectory(ax, poses, scale_factor=1.0, line_color='r', arrow_color='b', arrow_size=5, arrow_prop=5):\n",
    "    XYZ = np.array([P @ np.array([[0,0,0,1]]).transpose() for P in poses]).squeeze(axis=2)\n",
    "    UVW = np.array([normalize(P @ np.array([[0,0,1,1]]).transpose()) * arrow_size for P in poses]).squeeze(axis=2)\n",
    "    \n",
    "    XYZ *= scale_factor\n",
    "    UVW *= scale_factor\n",
    "\n",
    "    MIN = 0\n",
    "    MAX = np.max([np.max(XYZ), *ax.get_xlim(), *ax.get_ylim(), *ax.get_zlim()]) * 1.10\n",
    "\n",
    "#     ax.quiver(\n",
    "#         XYZ[::arrow_prop, 0], XYZ[::arrow_prop, 1], XYZ[::arrow_prop, 2],\n",
    "#         UVW[::arrow_prop, 0], UVW[::arrow_prop, 1], UVW[::arrow_prop, 2], color=arrow_color)\n",
    "    ax.plot(XYZ[:, 0], XYZ[:, 1], XYZ[:, 2], line_color)\n",
    "\n",
    "    ax.set_xlim(MIN, MAX)\n",
    "    ax.set_ylim(MIN, MAX)\n",
    "    ax.set_zlim(MIN, MAX)\n",
    "\n",
    "\n",
    "fig = plt.figure()\n",
    "ax = fig.add_subplot(projection='3d')\n",
    "ax.set_xlim(0, 1)\n",
    "ax.set_ylim(0, 1)\n",
    "ax.set_zlim(0, 1)\n",
    "plot_trajectory(ax, poses)\n",
    "plot_trajectory(ax, ground_truth_poses[:len(poses)], 50, 'g', 'g')\n",
    "\n",
    "ax.set_xlabel('X')\n",
    "ax.set_ylabel('Y')\n",
    "ax.set_zlabel('Z')\n",
    "\n",
    "ax.view_init(0, 90)\n",
    "ax.set_title(\"Trajectory (Bird's-Eye View, Z is forward)\")\n",
    "plt.show()"
   ]
  },
  {
   "cell_type": "markdown",
   "metadata": {},
   "source": [
    "## Bundle Adjustment\n",
    "Based on this tutorial: https://scipy-cookbook.readthedocs.io/items/bundle_adjustment.html, but mostly re-written (except as otherwise marked)."
   ]
  },
  {
   "cell_type": "code",
   "execution_count": 38,
   "metadata": {},
   "outputs": [
    {
     "data": {
      "text/plain": [
       "[<matplotlib.lines.Line2D at 0x29f795130>]"
      ]
     },
     "execution_count": 38,
     "metadata": {},
     "output_type": "execute_result"
    },
    {
     "data": {
      "image/png": "[encoded data removed]",
      "text/plain": [
       "<Figure size 432x288 with 1 Axes>"
      ]
     },
     "metadata": {
      "needs_background": "light"
     },
     "output_type": "display_data"
    }
   ],
   "source": [
    "import time\n",
    "import scipy\n",
    "\n",
    "# K includes 5 dof which are constant for all frames:\n",
    "# - translation (2 dof: cx, cy)\n",
    "# - focal length/change of units (2 dof: fx/alpha, fy/beta)\n",
    "# - skewness (1 dof: theta)\n",
    "# R and t are provided on a per-frame basis (??? dof, does t overlap with translation in K?)\n",
    "\n",
    "\"\"\"\n",
    "Relevant data, in their implementation:\n",
    "- camera_params with shape (n_cameras, 9) contains initial estimates of parameters for all cameras. First 3 components in each row form a rotation vector (https://en.wikipedia.org/wiki/Rodrigues%27_rotation_formula), next 3 components form a translation vector, then a focal distance and two distortion parameters.\n",
    "- points_3d with shape (n_points, 3) contains initial estimates of point coordinates in the world frame.\n",
    "- camera_ind with shape (n_observations,) contains indices of cameras (from 0 to n_cameras - 1) involved in each observation.\n",
    "- point_ind with shape (n_observations,) contatins indices of points (from 0 to n_points - 1) involved in each observation.\n",
    "- points_2d with shape (n_observations, 2) contains measured 2-D coordinates of points projected on images in each observations.\n",
    "\"\"\"\n",
    "\n",
    "FRAME_P_SIZE = 12\n",
    "POINT3D_SIZE = 3\n",
    "\n",
    "def residual(state, num_Ps, num_points3d, frame_idx, point3d_idx, points2d):\n",
    "\tframe_state_len = (num_Ps * FRAME_P_SIZE)\n",
    "\tframe_Ps = state[:frame_state_len].reshape((num_Ps, 3, 4))\n",
    "\tpoints3d = state[frame_state_len:].reshape((num_points3d, POINT3D_SIZE))\n",
    "\n",
    "\n",
    "\tP_by_frame = frame_Ps[frame_idx, :, :]\n",
    "\tpoint3d_by_frame = points3d[point3d_idx]\n",
    "\tpoint2d_by_frame = points2d\n",
    "\t# Add a 4th column to make homogenous multiplication work\n",
    "\tpoint3d_by_frame = np.hstack((point3d_by_frame, [[1]] * point3d_by_frame.shape[0]))\n",
    "\n",
    "\t# Credit to this SO answer for making the math work so nicely: https://stackoverflow.com/a/66971088\n",
    "\t# XXX: K should probably be passed as a parameter\n",
    "\treprojected = np.einsum('kij,kj->ki', (K @ P_by_frame), point3d_by_frame)\n",
    "\tpoint2d_reproj = reprojected[:, :2] / reprojected[:, 2, None]\n",
    "\n",
    "\treturn (point2d_reproj - point2d_by_frame).ravel()\n",
    "\n",
    "\n",
    "frame_Ps = np.array(list(Ps))\n",
    "points3d = np.array(list(point_cloud.points3d))\n",
    "frame_idx = np.zeros((point_cloud.num_observations,), dtype=int)\n",
    "point3d_idx = np.zeros((point_cloud.num_observations,), dtype=int)\n",
    "points2d = np.zeros((point_cloud.num_observations, 2))\n",
    "\n",
    "observation_id = 0\n",
    "for point3d_id, point3d in enumerate(points3d):\n",
    "\tfor frame_id, point2d in point_cloud.lookup3d(point3d):\n",
    "\t\tframe_idx[observation_id] = frame_id\n",
    "\t\tpoint3d_idx[observation_id] = point3d_id\n",
    "\t\tpoints2d[observation_id, :] = point2d\n",
    "\t\tobservation_id += 1\n",
    "\n",
    "state0 = np.hstack((frame_Ps.ravel(), points3d.ravel()))\n",
    "\n",
    "residual0 = residual(state0, frame_Ps.shape[0], points3d.shape[0], frame_idx, point3d_idx, points2d)\n",
    "plt.figure()\n",
    "plt.plot(residual0)"
   ]
  },
  {
   "cell_type": "code",
   "execution_count": 39,
   "metadata": {},
   "outputs": [
    {
     "name": "stdout",
     "output_type": "stream",
     "text": [
      "   Iteration     Total nfev        Cost      Cost reduction    Step norm     Optimality   \n",
      "       0              1         2.0598e+08                                    2.80e+12    \n",
      "       1              2         4.1929e+07      1.64e+08       3.32e-01       3.68e+11    \n",
      "       2              3         8.5437e+06      3.34e+07       1.34e-01       4.96e+10    \n",
      "       3              5         4.0462e+06      4.50e+06       1.30e-02       2.17e+10    \n",
      "       4              6         3.3244e+06      7.22e+05       2.02e-02       4.14e+10    \n",
      "       5              7         2.7621e+05      3.05e+06       3.09e-03       3.04e+09    \n",
      "       6              8         7.5404e+03      2.69e+05       7.42e-04       3.51e+08    \n",
      "       7              9         2.5854e+00      7.54e+03       4.29e-04       5.97e+06    \n",
      "       8             10         9.8010e-07      2.59e+00       2.99e-06       2.26e+03    \n",
      "       9             11         1.9357e-14      9.80e-07       1.72e-09       9.49e-02    \n",
      "`xtol` termination condition is satisfied.\n",
      "Function evaluations 11, initial cost 2.0598e+08, final cost 1.9357e-14, first-order optimality 9.49e-02.\n",
      "Bundle optimization took 2.04 seconds.\n"
     ]
    }
   ],
   "source": [
    "from scipy.optimize import least_squares\n",
    "from scipy.sparse import lil_matrix\n",
    "\n",
    "n_frames = frame_Ps.shape[0]\n",
    "n_observations = points3d.shape[0]\n",
    "\n",
    "\n",
    "### Generate Sparsity Matrix ###\n",
    "# This logic is completely taken from the SciPy tutorial\n",
    "resid_len = frame_idx.size * 2\n",
    "state_len = (n_frames * FRAME_P_SIZE) + (n_observations * POINT3D_SIZE)\n",
    "A = lil_matrix((resid_len, state_len), dtype=int)\n",
    "i = np.arange(frame_idx.size)\n",
    "for offset in range(FRAME_P_SIZE):\n",
    "\tA[2 * i, (frame_idx * FRAME_P_SIZE) + offset] = 1\n",
    "\tA[2 * i + 1, (frame_idx * FRAME_P_SIZE) + offset] = 1\n",
    "for offset in range(POINT3D_SIZE):\n",
    "\tA[2 * i, (n_frames * FRAME_P_SIZE) + (point3d_idx * POINT3D_SIZE) + offset] = 1\n",
    "\tA[2 * i + 1, (n_frames * FRAME_P_SIZE) + (point3d_idx * POINT3D_SIZE) + offset] = 1\n",
    "\n",
    "start_time = perf_counter()\n",
    "res = least_squares(residual, state0, verbose=2, x_scale='jac', jac_sparsity=A, method='trf', args=(n_frames, n_observations, frame_idx, point3d_idx, points2d))\n",
    "duration = perf_counter() - start_time\n",
    "print(f\"Bundle optimization took {duration:.2f} seconds.\")"
   ]
  },
  {
   "cell_type": "code",
   "execution_count": 40,
   "metadata": {},
   "outputs": [
    {
     "data": {
      "text/plain": [
       "[<matplotlib.lines.Line2D at 0x29dc3a7f0>]"
      ]
     },
     "execution_count": 40,
     "metadata": {},
     "output_type": "execute_result"
    },
    {
     "data": {
      "image/png": "[encoded data removed]",
      "text/plain": [
       "<Figure size 432x288 with 1 Axes>"
      ]
     },
     "metadata": {
      "needs_background": "light"
     },
     "output_type": "display_data"
    }
   ],
   "source": [
    "plt.figure()\n",
    "plt.plot(res.fun)"
   ]
  },
  {
   "cell_type": "code",
   "execution_count": 41,
   "metadata": {},
   "outputs": [],
   "source": [
    "Ps_flat = res.x[:(FRAME_P_SIZE * n_frames)]\n",
    "points3d_flat = res.x[(FRAME_P_SIZE * n_frames):]\n",
    "\n",
    "Ps = Ps_flat.reshape((n_frames, 3, 4))\n",
    "points3d = points3d_flat.reshape((point_cloud.num_points3d, 3))\n",
    "\n",
    "cur_pose = np.array([[1,0,0,0], [0,1,0,0], [0,0,1,0], [0,0,0,1]])\n",
    "poses = [cur_pose]\n",
    "for P in Ps:\n",
    "\tP_homogenous = np.vstack((P, [0,0,0,1]))\n",
    "\tcur_pose = P_homogenous @ cur_pose\n",
    "\tposes.append(cur_pose)\n"
   ]
  },
  {
   "cell_type": "code",
   "execution_count": 42,
   "metadata": {},
   "outputs": [
    {
     "data": {
      "text/plain": [
       "array([[-0.99496977, -0.02148   ,  0.08735658, -0.12708419],\n",
       "       [ 0.0274274 , -1.04626064,  0.02581518, -0.0586252 ],\n",
       "       [-0.08846227, -0.0679284 , -0.99754546,  1.85314492],\n",
       "       [ 0.        ,  0.        ,  0.        ,  1.        ]])"
      ]
     },
     "execution_count": 42,
     "metadata": {},
     "output_type": "execute_result"
    }
   ],
   "source": [
    "poses[5]"
   ]
  },
  {
   "cell_type": "code",
   "execution_count": 43,
   "metadata": {},
   "outputs": [
    {
     "data": {
      "image/png": "[encoded data removed]",
      "text/plain": [
       "<Figure size 432x288 with 1 Axes>"
      ]
     },
     "metadata": {
      "needs_background": "light"
     },
     "output_type": "display_data"
    }
   ],
   "source": [
    "# Copied from above\n",
    "def plot_trajectory(ax, poses, scale_factor=1.0, line_color='r', arrow_color='b', arrow_size=5, arrow_prop=5):\n",
    "    XYZ = np.array([P @ np.array([[0,0,0,1]]).transpose() for P in poses]).squeeze(axis=2)\n",
    "    UVW = np.array([normalize(P @ np.array([[0,0,1,1]]).transpose()) * arrow_size for P in poses]).squeeze(axis=2)\n",
    "    \n",
    "    XYZ *= scale_factor\n",
    "    UVW *= scale_factor\n",
    "\n",
    "    MIN = 0\n",
    "    MAX = np.max([np.max(XYZ), *ax.get_xlim(), *ax.get_ylim(), *ax.get_zlim()])\n",
    "\n",
    "#     ax.quiver(\n",
    "#         XYZ[::arrow_prop, 0], XYZ[::arrow_prop, 1], XYZ[::arrow_prop, 2],\n",
    "#         UVW[::arrow_prop, 0], UVW[::arrow_prop, 1], UVW[::arrow_prop, 2], color=arrow_color)\n",
    "    ax.plot(XYZ[:, 0], XYZ[:, 1], XYZ[:, 2], line_color)\n",
    "\n",
    "    ax.set_xlim(MIN, MAX)\n",
    "    ax.set_ylim(MIN, MAX)\n",
    "    ax.set_zlim(MIN, MAX)\n",
    "\n",
    "\n",
    "fig = plt.figure()\n",
    "ax = fig.add_subplot(projection='3d')\n",
    "ax.set_xlim(0, 1)\n",
    "ax.set_ylim(0, 1)\n",
    "ax.set_zlim(0, 1)\n",
    "plot_trajectory(ax, original_poses, 1, 'r', 'r')\n",
    "plot_trajectory(ax, poses, 1, 'b', 'b')\n",
    "gtposes = []\n",
    "for p in ground_truth_poses[1:]:\n",
    "    p = p - ground_truth_poses[0]\n",
    "    gtposes.append(p)\n",
    "plot_trajectory(ax, gtposes[:len(poses)], 1, 'g', 'g')\n",
    "\n",
    "ax.set_xlabel('X')\n",
    "ax.set_ylabel('Y')\n",
    "ax.set_zlabel('Z')\n",
    "\n",
    "ax.view_init(0, 90)\n",
    "ax.set_title(\"Trajectory (Bird's-Eye View, Z is forward)\")\n",
    "plt.show()"
   ]
  },
  {
   "cell_type": "markdown",
   "metadata": {},
   "source": [
    "## Scale Factor (Attempt)\n",
    "\n",
    "The idea: for some scale factor $C$, the following must be true:\n",
    "\n",
    "$$PC = P_{truth}$$\n",
    "\n",
    "We know $P$ and $P_{truth}$, so solve for $C$ (an approximate solution, not an exact one).\n",
    "\n",
    "But: what shape should $C$ have? Not sure, trying 4x4, we'll see if that works."
   ]
  },
  {
   "cell_type": "code",
   "execution_count": 44,
   "metadata": {},
   "outputs": [
    {
     "name": "stdout",
     "output_type": "stream",
     "text": [
      "(53, 16) (53, 16)\n",
      "(53, 16) (53, 16) (16, 16)\n"
     ]
    }
   ],
   "source": [
    "P_calculated = np.array(poses).reshape((len(poses), -1))\n",
    "P_truth = np.array(kitti.poses[:len(poses)]).reshape((len(poses), -1))\n",
    "\n",
    "assert P_calculated.shape == P_truth.shape\n",
    "\n",
    "print(P_calculated.shape, P_truth.shape)\n",
    "\n",
    "C, *_ = np.linalg.lstsq(P_calculated, P_truth, rcond=None)\n",
    "\n",
    "print(P_calculated.shape, P_truth.shape, C.shape)\n",
    "\n",
    "P_corrected = (P_calculated @ C).reshape((-1, 4, 4))\n",
    "corrected_poses = list(P_corrected)"
   ]
  },
  {
   "cell_type": "code",
   "execution_count": 45,
   "metadata": {},
   "outputs": [
    {
     "data": {
      "image/png": "[encoded data removed]",
      "text/plain": [
       "<Figure size 432x288 with 1 Axes>"
      ]
     },
     "metadata": {
      "needs_background": "light"
     },
     "output_type": "display_data"
    }
   ],
   "source": [
    "# Copied from above\n",
    "def plot_trajectory(ax, poses, scale_factor=1.0, line_color='r', arrow_color='b', arrow_size=5, arrow_prop=5):\n",
    "    XYZ = np.array([P @ np.array([[0,0,0,1]]).transpose() for P in poses]).squeeze(axis=2)\n",
    "    UVW = np.array([normalize(P @ np.array([[0,0,1,1]]).transpose()) * arrow_size for P in poses]).squeeze(axis=2)\n",
    "    \n",
    "    XYZ *= scale_factor\n",
    "    UVW *= scale_factor\n",
    "\n",
    "    MIN = 0\n",
    "    MAX = np.max([np.max(XYZ), *ax.get_xlim(), *ax.get_ylim(), *ax.get_zlim()])\n",
    "\n",
    "#     ax.quiver(\n",
    "#         XYZ[::arrow_prop, 0], XYZ[::arrow_prop, 1], XYZ[::arrow_prop, 2],\n",
    "#         UVW[::arrow_prop, 0], UVW[::arrow_prop, 1], UVW[::arrow_prop, 2], color=arrow_color)\n",
    "    ax.plot(XYZ[:, 0], XYZ[:, 1], XYZ[:, 2], line_color)\n",
    "\n",
    "#     ax.set_xlim(MIN, MAX)\n",
    "#     ax.set_ylim(MIN, MAX)\n",
    "#     ax.set_zlim(MIN, MAX)\n",
    "\n",
    "\n",
    "fig = plt.figure()\n",
    "ax = fig.add_subplot(projection='3d')\n",
    "# ax.set_xlim(0, 1)\n",
    "# ax.set_ylim(0, 1)\n",
    "# ax.set_zlim(0, 1)\n",
    "# plot_trajectory(ax, original_poses, 1, 'r', 'r')\n",
    "# plot_trajectory(ax, poses, 1, 'b', 'b')\n",
    "plot_trajectory(ax, kitti.poses[:len(poses)], 1, 'g', 'g')\n",
    "plot_trajectory(ax, corrected_poses, 1, 'm', 'm')\n",
    "# ax.set_xlim([0, 1])\n",
    "\n",
    "ax.set_xlabel('X')\n",
    "ax.set_ylabel('Y')\n",
    "ax.set_zlabel('Z')\n",
    "\n",
    "ax.view_init(0, 90)\n",
    "ax.set_title(\"Trajectory (Bird's-Eye View, Z is forward)\")\n",
    "plt.show()"
   ]
  },
  {
   "cell_type": "code",
   "execution_count": null,
   "metadata": {},
   "outputs": [],
   "source": []
  }
 ],
 "metadata": {
  "interpreter": {
   "hash": "1575aa731dd94ffaaca7f419769aa19de8f97787676fecea7c3a247a60004da5"
  },
  "kernelspec": {
   "display_name": "Python 3 (ipykernel)",
   "language": "python",
   "name": "python3"
  },
  "language_info": {
   "codemirror_mode": {
    "name": "ipython",
    "version": 3
   },
   "file_extension": ".py",
   "mimetype": "text/x-python",
   "name": "python",
   "nbconvert_exporter": "python",
   "pygments_lexer": "ipython3",
   "version": "3.9.11"
  }
 },
 "nbformat": 4,
 "nbformat_minor": 2
}
